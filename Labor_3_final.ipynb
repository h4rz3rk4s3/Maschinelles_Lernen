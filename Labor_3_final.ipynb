{
 "cells": [
  {
   "cell_type": "code",
   "execution_count": 1,
   "id": "f9a70b02",
   "metadata": {},
   "outputs": [],
   "source": [
    "import numpy as np\n",
    "import pandas as pd\n",
    "import matplotlib.pyplot as plt\n",
    "import random\n",
    "import math\n",
    "from sklearn.metrics.pairwise import manhattan_distances"
   ]
  },
  {
   "cell_type": "code",
   "execution_count": 7,
   "id": "def58111",
   "metadata": {},
   "outputs": [],
   "source": [
    "# initialize k random centroids\n",
    "# return value is a list of length k with k random integers within the size of the given dataframe\n",
    "def init_centroids (df, k):\n",
    "    centroids = {}\n",
    "    for i in range(k):\n",
    "        a = random.randrange(0, len(df))\n",
    "        q_xyz = np.array([df.at[a, \"X\"], df.at[a, \"Y\"], df.at[a, \"Z\"]])\n",
    "        centroids[i] = q_xyz\n",
    "    \n",
    "    return centroids"
   ]
  },
  {
   "cell_type": "code",
   "execution_count": 3,
   "id": "0fe684d1",
   "metadata": {},
   "outputs": [],
   "source": [
    "def calc_mean_centroid (df, centroids):\n",
    "    new_centroids = {}\n",
    "    for i in centroids:\n",
    "        centroids_df = pd.DataFrame(df.loc[df[\"Cluster label\"] == i+1])\n",
    "        mean_x = np.mean(centroids_df.iloc[:][\"X\"])\n",
    "        mean_y = np.mean(centroids_df.iloc[:][\"Y\"])\n",
    "        mean_z = np.mean(centroids_df.iloc[:][\"Z\"])\n",
    "        new_centroids[i] = [mean_x, mean_y, mean_z]\n",
    "\n",
    "    return new_centroids"
   ]
  },
  {
   "cell_type": "code",
   "execution_count": 4,
   "id": "0dd2d633",
   "metadata": {},
   "outputs": [],
   "source": [
    "def dis_to_centroids (df, centroids):\n",
    "\n",
    "    centroids_new = centroids\n",
    "\n",
    "    for i in range(len(df)):\n",
    "        p_xyz = np.array([df.at[i, \"X\"], df.at[i, \"Y\"], df.at[i, \"Z\"]])\n",
    "        dist = []\n",
    "\n",
    "        for j in range(len(centroids_new)):\n",
    "            #qx, qy, qz = centroids_new[j]\n",
    "            q_xyz = centroids_new[j]\n",
    "            \n",
    "            #Euclidean Distance\n",
    "            dist.append(np.linalg.norm(q_xyz - p_xyz))\n",
    "            #euc_dist.append(math.sqrt((qx - px)**2 + (qy - py)**2 + (qy - py)**2))\n",
    "            \n",
    "            #Manhattan Distance\n",
    "            #dist.append(manhattan_distances([q_xyz],[p_xyz]))\n",
    "        df[\"Cluster label\"][i] = dist.index(min(dist)) + 1\n",
    "    centroids_new = calc_mean_centroid(df, centroids_new)\n",
    "\n",
    "    return df    "
   ]
  },
  {
   "cell_type": "code",
   "execution_count": 5,
   "id": "350e4a1f",
   "metadata": {},
   "outputs": [],
   "source": [
    "def changed_centroids (df_old,df_new):\n",
    "    for j in range(len(df_old)):\n",
    "        if df_old.at[j,\"X\"] != df_new.at[j,\"X\"]:\n",
    "            return True\n",
    "        if df_old.at[j,\"Y\"] != df_new.at[j,\"Y\"]:\n",
    "            return True\n",
    "        if df_old.at[j,\"Z\"] != df_new.at[j,\"Z\"]:\n",
    "            return True\n",
    "    return False"
   ]
  },
  {
   "cell_type": "code",
   "execution_count": 9,
   "id": "2c98f27b",
   "metadata": {},
   "outputs": [
    {
     "ename": "SyntaxError",
     "evalue": "invalid syntax (2369395938.py, line 4)",
     "output_type": "error",
     "traceback": [
      "\u001b[0;36m  File \u001b[0;32m\"/tmp/ipykernel_19002/2369395938.py\"\u001b[0;36m, line \u001b[0;32m4\u001b[0m\n\u001b[0;31m    centroids[] = init_centroids(cluster_old, k)\u001b[0m\n\u001b[0m    ^\u001b[0m\n\u001b[0;31mSyntaxError\u001b[0m\u001b[0;31m:\u001b[0m invalid syntax\n"
     ]
    }
   ],
   "source": [
    "def k_means (cluster_df, k):\n",
    "    cluster_old = cluster_df\n",
    "    cluster_new = pd.DataFrame(np.zeros((200,4)), columns = [\"X\", \"Y\", \"Z\", \"Cluster label\"]\n",
    "    centroids = init_centroids(cluster_old, k)\n",
    "    \n",
    "    while changed_centroids(cluster_old, cluster_new):\n",
    "        cluster_old = cluster_new\n",
    "        cluster_new = dis_to_centroids(cluster_df, centroids)\n",
    "        centroids = calc_mean_centroids(cluster_new, centroids)\n",
    "    return cluster_new"
   ]
  },
  {
   "cell_type": "code",
   "execution_count": null,
   "id": "a1c1b25e",
   "metadata": {},
   "outputs": [],
   "source": []
  }
 ],
 "metadata": {
  "kernelspec": {
   "display_name": "Python [conda env:test39] *",
   "language": "python",
   "name": "conda-env-test39-py"
  },
  "language_info": {
   "codemirror_mode": {
    "name": "ipython",
    "version": 3
   },
   "file_extension": ".py",
   "mimetype": "text/x-python",
   "name": "python",
   "nbconvert_exporter": "python",
   "pygments_lexer": "ipython3",
   "version": "3.9.7"
  }
 },
 "nbformat": 4,
 "nbformat_minor": 5
}
