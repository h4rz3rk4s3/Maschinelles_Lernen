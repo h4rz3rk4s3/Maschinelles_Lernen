{
 "cells": [
  {
   "cell_type": "code",
   "execution_count": 1,
   "id": "1f857d2c-cc7d-4db0-8c78-1694a60ce98c",
   "metadata": {},
   "outputs": [],
   "source": [
    "import numpy as np"
   ]
  },
  {
   "cell_type": "code",
   "execution_count": null,
   "id": "2482fbd5-0fb9-4e72-b453-cf59191612e0",
   "metadata": {},
   "outputs": [],
   "source": []
  }
 ],
 "metadata": {
  "kernelspec": {
   "display_name": "Python [conda env:DL_38] *",
   "language": "python",
   "name": "conda-env-DL_38-py"
  },
  "language_info": {
   "codemirror_mode": {
    "name": "ipython",
    "version": 3
   },
   "file_extension": ".py",
   "mimetype": "text/x-python",
   "name": "python",
   "nbconvert_exporter": "python",
   "pygments_lexer": "ipython3",
   "version": "3.8.12"
  }
 },
 "nbformat": 4,
 "nbformat_minor": 5
}
